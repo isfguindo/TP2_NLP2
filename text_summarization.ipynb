{
 "cells": [
  {
   "cell_type": "code",
   "execution_count": 102,
   "metadata": {},
   "outputs": [],
   "source": [
    "# text summarization\n",
    "\n",
    "from datasets import load_from_disk, load_dataset\n",
    "import os\n",
    "from sklearn.model_selection import  train_test_split\n",
    "import matplotlib.pyplot as plt\n",
    "\n"
   ]
  },
  {
   "cell_type": "markdown",
   "metadata": {},
   "source": [
    "## 1. Téléchargement et préparation du jeu de données"
   ]
  },
  {
   "cell_type": "markdown",
   "metadata": {},
   "source": [
    "### Téléchargement et Pretraitement du jeu de données CNN/Daily Mail depuis Hugging Face Datasets."
   ]
  },
  {
   "cell_type": "code",
   "execution_count": null,
   "metadata": {},
   "outputs": [],
   "source": [
    "if os.path.exists(\"cnn_daily_v3/train\"):\n",
    "    ds = load_from_disk(\"cnn_daily_v3/train\", )\n",
    "else:\n",
    "    ds = load_dataset(\"abisee/cnn_dailymail\", \"3.0.0\", split=\"train\")\n"
   ]
  },
  {
   "cell_type": "code",
   "execution_count": null,
   "metadata": {},
   "outputs": [
    {
     "data": {
      "application/vnd.jupyter.widget-view+json": {
       "model_id": "ae6d483b52e34b44894a2acd5ab8fcad",
       "version_major": 2,
       "version_minor": 0
      },
      "text/plain": [
       "Saving the dataset (0/3 shards):   0%|          | 0/287113 [00:00<?, ? examples/s]"
      ]
     },
     "metadata": {},
     "output_type": "display_data"
    },
    {
     "data": {
      "application/vnd.jupyter.widget-view+json": {
       "model_id": "f3c9b5fbda6f43f3a6600ad2734967f6",
       "version_major": 2,
       "version_minor": 0
      },
      "text/plain": [
       "Saving the dataset (0/1 shards):   0%|          | 0/13368 [00:00<?, ? examples/s]"
      ]
     },
     "metadata": {},
     "output_type": "display_data"
    },
    {
     "data": {
      "application/vnd.jupyter.widget-view+json": {
       "model_id": "2aac4740f32343b8b390afa9107911c3",
       "version_major": 2,
       "version_minor": 0
      },
      "text/plain": [
       "Saving the dataset (0/1 shards):   0%|          | 0/11490 [00:00<?, ? examples/s]"
      ]
     },
     "metadata": {},
     "output_type": "display_data"
    }
   ],
   "source": [
    "# ds.save_to_disk(\"cnn_daily_v3\")"
   ]
  },
  {
   "cell_type": "code",
   "execution_count": 98,
   "metadata": {},
   "outputs": [],
   "source": [
    "# Division des donnees en train/validation/test 80/10/10\n",
    "X_train, X_test, y_train, y_test = train_test_split(ds[\"article\"], ds[\"highlights\"], test_size=0.2, random_state=42)\n",
    "X_val, X_test, y_val, y_test = train_test_split(X_test, y_test, test_size=0.5, random_state=42)\n"
   ]
  },
  {
   "cell_type": "code",
   "execution_count": 101,
   "metadata": {},
   "outputs": [
    {
     "name": "stdout",
     "output_type": "stream",
     "text": [
      "train size : 80%,\n",
      "validation size : 10%,\n",
      "test size : 10%\n"
     ]
    }
   ],
   "source": [
    "aa=len(ds[\"article\"])\n",
    "train_size=100*len(X_train)/aa\n",
    "val_size=100*len(X_val)/aa\n",
    "test_size=100*len(X_test)/aa\n",
    "print(f\"train size : {round(train_size)}%,\\nvalidation size : {round(val_size)}%,\\ntest size : {round(test_size)}%\")"
   ]
  },
  {
   "cell_type": "code",
   "execution_count": null,
   "metadata": {},
   "outputs": [
    {
     "data": {
      "image/png": "[encoded data removed]",
      "text/plain": [
       "<Figure size 640x480 with 1 Axes>"
      ]
     },
     "metadata": {},
     "output_type": "display_data"
    }
   ],
   "source": [
    "fig, ax = plt.subplots()\n",
    "\n",
    "alabls = ['train', 'validation', 'test']\n",
    "ahght = [train_size, val_size, test_size]\n",
    "bar_labels = alabls\n",
    "bar_colors = ['tab:blue', 'tab:green', 'tab:orange']\n",
    "ax.bar(alabls, ahght, label=bar_labels, color=bar_colors)\n",
    "\n",
    "ax.set_ylabel('Proportion (%)')\n",
    "ax.set_title('Division de notre dataset')\n",
    "ax.legend(title='Legende')\n",
    "\n",
    "plt.show()\n",
    "fig.savefig(\"proportions.png\")"
   ]
  },
  {
   "cell_type": "code",
   "execution_count": null,
   "metadata": {},
   "outputs": [],
   "source": []
  },
  {
   "cell_type": "code",
   "execution_count": null,
   "metadata": {},
   "outputs": [],
   "source": []
  },
  {
   "cell_type": "code",
   "execution_count": null,
   "metadata": {},
   "outputs": [],
   "source": []
  },
  {
   "cell_type": "code",
   "execution_count": null,
   "metadata": {},
   "outputs": [],
   "source": []
  },
  {
   "cell_type": "markdown",
   "metadata": {},
   "source": [
    "## 2. Modèle de résumé extractif (Utiliser le jeu de données de tests uniquement)"
   ]
  },
  {
   "cell_type": "code",
   "execution_count": null,
   "metadata": {},
   "outputs": [],
   "source": []
  },
  {
   "cell_type": "markdown",
   "metadata": {},
   "source": [
    "## 3. Modèle de résumé abstrait (Encoder-Decoder)\n",
    "\n",
    "Architecture :\n",
    "\n",
    "Utiliser une architecture Transformer (BART ou T5).\n",
    "\n",
    "Entraînement du modèle :\n",
    "\n",
    "Utiliser les textes comme entrées pour l’encodeur et les résumés comme cibles pour le décodeur.\n",
    "Définir la fonction de perte et une méthode d’optimisation adaptées.\n",
    "Entraîner le modèle sur le jeu d'entraînement et valider sur le jeu de validation.\n"
   ]
  },
  {
   "cell_type": "code",
   "execution_count": null,
   "metadata": {},
   "outputs": [],
   "source": [
    "## \n",
    "\n",
    "from transformers import BartTokenizer\n",
    "\n",
    "# Charger le tokenizer BART\n",
    "tokenizer = BartTokenizer.from_pretrained('facebook/bart-large-cnn')\n",
    "\n",
    "# Fonction de tokenisation\n",
    "def tokenize_data(examples):\n",
    "    inputs = examples['article']\n",
    "    targets = examples['summary']\n",
    "    model_inputs = tokenizer(inputs, max_length=1024, truncation=True)\n",
    "\n",
    "    # Tokeniser le résumé\n",
    "    with tokenizer.as_target_tokenizer():\n",
    "        labels = tokenizer(targets, max_length=150, truncation=True)\n",
    "\n",
    "    model_inputs['labels'] = labels['input_ids']\n",
    "    return model_inputs\n",
    "\n",
    "# Appliquer la tokenisation aux jeux de données d'entraînement et de validation\n",
    "train_dataset = train_dataset.map(tokenize_data, batched=True)\n",
    "val_dataset = val_dataset.map(tokenize_data, batched=True)\n",
    "\n",
    "# Définir les colonnes à garder\n",
    "train_dataset.set_format(type='torch', columns=['input_ids', 'attention_mask', 'labels'])\n",
    "val_dataset.set_format(type='torch', columns=['input_ids', 'attention_mask', 'labels'])"
   ]
  },
  {
   "cell_type": "markdown",
   "metadata": {},
   "source": [
    "## 4. Évaluation des performances\n",
    "\n",
    "Génération de résumés :\n",
    "\n",
    "Générer des résumés à partir du jeu de test pour l’approche abstraite.\n",
    "\n",
    "Comparaison des approches :\n",
    "\n",
    "Évaluer les résumés générés (abstrait et extractif) en utilisant les métriques ROUGE et BLEU.\n",
    "Comparer les scores et analyser les résultats.\n"
   ]
  },
  {
   "cell_type": "code",
   "execution_count": null,
   "metadata": {},
   "outputs": [],
   "source": [
    "from datasets import load_metric\n",
    "metric = load_metric('glue', 'mrpc') # egalement [bleu, rouge, bertscore, bleurt, coval, gleu, glue, meteor, sacrebleu, seqeval, squad, squad_v2, xnli]\n",
    "# Example of typical usage\n",
    "for batch in dataset:\n",
    "    inputs, references = batch\n",
    "    predictions = model(inputs)\n",
    "    metric.add_batch(predictions=predictions, references=references)\n",
    "score = metric.compute()"
   ]
  },
  {
   "cell_type": "markdown",
   "metadata": {},
   "source": [
    "## 5. Expérimentations additionnelles (option)\n",
    "\n",
    "### Tests sur d'autres sources :\n",
    "\n",
    "Tester les modèles sur des textes provenant d'autres sources pour évaluer la généralisation.\n",
    "\n",
    "### Variantes du modèle :\n",
    "\n",
    "Expérimenter avec différents modèles pré-entraînés (GPT) et différentes configurations des architectures (taille des couches, nombre d'époques).\n",
    "\n",
    "### Exploration de techniques avancées :\n",
    "\n",
    "Tester des techniques comme la régularisation ou l'ajout de contraintes pour améliorer la qualité des résumés.\n"
   ]
  },
  {
   "cell_type": "code",
   "execution_count": null,
   "metadata": {},
   "outputs": [],
   "source": []
  },
  {
   "cell_type": "markdown",
   "metadata": {},
   "source": [
    "## 6. Questions de réflexion\n",
    "\n",
    "### Analyse des limites :\n",
    "Quelles sont les limites des modèles pour resumé extractifs par rapport aux modèles pour resumé abstraits ?\n",
    "Quelles sont les limites des modèles encoder-decoder dans les tâches de résumé de texte ?\n",
    "Comment améliorer la performance du modèle sur des textes complexes ou longs ?\n",
    "\n",
    "## 7. Ressources\n",
    "Dataset CNN/Daily Mail pour le résumé de texte\n",
    "Bibliothèques recommandées :\n",
    "Hugging Face Transformers pour les modèles pré-entraînés.\n",
    "Scikit-learn pour les évaluations et la préparation des données.\n",
    "NLTK ou SpaCy pour le traitement du langage naturel.\n",
    "\n",
    "## Livrables\n",
    "\n",
    "### Dépôt GitHub :\n",
    "\n",
    "Créer un dépôt contenant le code, les notebooks d’analyse, et un fichier README expliquant comment exploiter votre code.\n",
    "\n",
    "### Rapport final :\n",
    "\n",
    "Inclure une analyse comparative des performances, des graphiques et des réflexions sur les deux approches.\n",
    "\n",
    "### Images & Captures d'écran :\n",
    "\n",
    "Ajouter des images et captures d'écran des résultats des évaluations, y compris les métriques ROUGE et BLEU.\n"
   ]
  }
 ],
 "metadata": {
  "kernelspec": {
   "display_name": "nlp",
   "language": "python",
   "name": "python3"
  },
  "language_info": {
   "codemirror_mode": {
    "name": "ipython",
    "version": 3
   },
   "file_extension": ".py",
   "mimetype": "text/x-python",
   "name": "python",
   "nbconvert_exporter": "python",
   "pygments_lexer": "ipython3",
   "version": "3.11.4"
  }
 },
 "nbformat": 4,
 "nbformat_minor": 2
}
